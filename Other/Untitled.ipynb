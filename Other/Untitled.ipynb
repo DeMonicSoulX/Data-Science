{
 "cells": [
  {
   "cell_type": "code",
   "execution_count": 12,
   "id": "822c18e4",
   "metadata": {},
   "outputs": [
    {
     "name": "stdout",
     "output_type": "stream",
     "text": [
      "1 2 3 4 5\n",
      "2\n",
      "5\n"
     ]
    },
    {
     "ename": "ValueError",
     "evalue": "The truth value of an array with more than one element is ambiguous. Use a.any() or a.all()",
     "output_type": "error",
     "traceback": [
      "\u001b[1;31m---------------------------------------------------------------------------\u001b[0m",
      "\u001b[1;31mValueError\u001b[0m                                Traceback (most recent call last)",
      "Input \u001b[1;32mIn [12]\u001b[0m, in \u001b[0;36m<cell line: 5>\u001b[1;34m()\u001b[0m\n\u001b[0;32m      3\u001b[0m m \u001b[38;5;241m=\u001b[39m \u001b[38;5;28mint\u001b[39m(\u001b[38;5;28minput\u001b[39m())\n\u001b[0;32m      4\u001b[0m n \u001b[38;5;241m=\u001b[39m \u001b[38;5;28mint\u001b[39m(\u001b[38;5;28minput\u001b[39m())\n\u001b[1;32m----> 5\u001b[0m array_1 \u001b[38;5;241m=\u001b[39m [test[test \u001b[38;5;241m<\u001b[39m n ] \u001b[38;5;129;01mand\u001b[39;00m test[test \u001b[38;5;241m>\u001b[39m m]]\n\u001b[0;32m      6\u001b[0m final_array \u001b[38;5;241m=\u001b[39m array_1[array_1 \u001b[38;5;241m>\u001b[39m m]\n\u001b[0;32m      8\u001b[0m \u001b[38;5;28mprint\u001b[39m(final_array)\n",
      "\u001b[1;31mValueError\u001b[0m: The truth value of an array with more than one element is ambiguous. Use a.any() or a.all()"
     ]
    }
   ],
   "source": [
    "import numpy as np\n",
    "test = np.array([int(i) for i in input().split()])\n",
    "m = int(input())\n",
    "n = int(input())\n",
    "array_1 = test[test < n and test > m]\n",
    "final_array = array_1[array_1 > m]\n",
    "\n",
    "print(final_array)"
   ]
  },
  {
   "cell_type": "code",
   "execution_count": 19,
   "id": "7477fce5",
   "metadata": {},
   "outputs": [
    {
     "data": {
      "text/plain": [
       "3"
      ]
     },
     "execution_count": 19,
     "metadata": {},
     "output_type": "execute_result"
    }
   ],
   "source": [
    "import numpy as np\n",
    "list2 = [[11, 12, 13, 14], [21, 22, 23, 24], [31, 32, 33, 34]]\n",
    "test1 = np.array(list2)\n",
    "m,n=test1.shape\n",
    "m"
   ]
  }
 ],
 "metadata": {
  "kernelspec": {
   "display_name": "Python 3 (ipykernel)",
   "language": "python",
   "name": "python3"
  },
  "language_info": {
   "codemirror_mode": {
    "name": "ipython",
    "version": 3
   },
   "file_extension": ".py",
   "mimetype": "text/x-python",
   "name": "python",
   "nbconvert_exporter": "python",
   "pygments_lexer": "ipython3",
   "version": "3.9.12"
  }
 },
 "nbformat": 4,
 "nbformat_minor": 5
}
