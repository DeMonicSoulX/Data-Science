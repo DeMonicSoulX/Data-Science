{
 "cells": [
  {
   "cell_type": "code",
   "execution_count": 84,
   "id": "994b79d7",
   "metadata": {},
   "outputs": [
    {
     "name": "stdout",
     "output_type": "stream",
     "text": [
      "(6, 1)\n"
     ]
    },
    {
     "data": {
      "text/plain": [
       "<AxesSubplot:ylabel='Frequency'>"
      ]
     },
     "execution_count": 84,
     "metadata": {},
     "output_type": "execute_result"
    },
    {
     "data": {
      "image/png": "[encoded data removed]",
      "text/plain": [
       "<Figure size 432x288 with 1 Axes>"
      ]
     },
     "metadata": {
      "needs_background": "light"
     },
     "output_type": "display_data"
    }
   ],
   "source": [
    "import numpy as np\n",
    "import pandas as pd\n",
    "list_1 = np.arange(1,65).reshape(8,8)\n",
    "data = pd.DataFrame(list_1)\n",
    "print(np.unravel_index(49, (8,8)))\n",
    "data.plot.hist(col)"
   ]
  },
  {
   "cell_type": "code",
   "execution_count": 19,
   "id": "a2e6011c",
   "metadata": {
    "scrolled": true
   },
   "outputs": [
    {
     "data": {
      "text/plain": [
       "array([[ 1,  3],\n",
       "       [ 5,  7],\n",
       "       [ 9, 11],\n",
       "       [13, 15]])"
      ]
     },
     "execution_count": 19,
     "metadata": {},
     "output_type": "execute_result"
    }
   ],
   "source": [
    "list_1[ :3 , -8 :  ]\n",
    "np.arange(1,16,2).reshape(4, 2)"
   ]
  },
  {
   "cell_type": "code",
   "execution_count": 31,
   "id": "3333e927",
   "metadata": {},
   "outputs": [
    {
     "name": "stdout",
     "output_type": "stream",
     "text": [
      "Enter the size of array which you want: 5\n",
      "[False False  True False False]\n"
     ]
    }
   ],
   "source": [
    "import numpy as np\n",
    "n=int(input(\"Enter the size of array which you want: \"))\n",
    "a=np.zeros((n,n), dtype=int)\n",
    "a=np.arange(n)==n//2\n",
    "a=a*1|a[:,None]\n",
    "print(a)"
   ]
  },
  {
   "cell_type": "markdown",
   "id": "5e092888",
   "metadata": {},
   "source": [
    "PANDAS SOLUTIONS"
   ]
  },
  {
   "cell_type": "code",
   "execution_count": 81,
   "id": "2adca197",
   "metadata": {},
   "outputs": [
    {
     "data": {
      "text/plain": [
       "<AxesSubplot:ylabel='Frequency'>"
      ]
     },
     "execution_count": 81,
     "metadata": {},
     "output_type": "execute_result"
    },
    {
     "data": {
      "image/png": "[encoded data removed]",
      "text/plain": [
       "<Figure size 432x288 with 1 Axes>"
      ]
     },
     "metadata": {
      "needs_background": "light"
     },
     "output_type": "display_data"
    }
   ],
   "source": [
    "import numpy as np\n",
    "import pandas as pd\n",
    "df = pd.read_excel(\"C:/Users/yadavada/Desktop/Graded_Questions/MegaMart_sales.xlsx\")\n",
    "df_1 = pd.read_excel(\"C:/Users/yadavada/Desktop/Graded_Questions/MegaMart_newsales.xlsx\")\n",
    "df_2 = df.merge(df_1, how='outer')\n",
    "df_2_concat = pd.concat([df, df_1])\n",
    "df_2_concat_ND = df_2_concat.drop_duplicates()\n",
    "#df_2_concat_ND = df_2_concat_ND.pivot_table(columns=(['Category', 'Sub-Category']), values='Profit', aggfunc='sum')\n",
    "#df.groupby(by=['Category','Sub-Category']).Profit.sum() # alternative answer\n",
    "#df_2_concat[df_2_concat['Category'] == 'Office Supplies'].sum()\n",
    "# test = df_2_concat[df_2_concat['Category'] == 'Office Supplies']\n",
    "# test = test.drop_duplicates()\n",
    "\n",
    "# df_2_concat_ND['Order no']=df_2_concat_ND['Order ID'].str.split('-')\n",
    "# df_2_concat_ND['Order no']=df_2_concat_ND['Order no'].apply(lambda x: x[2])\n",
    "# df_2_concat_ND['no_of_digits']=df_2_concat_ND['Order no'].apply(lambda x: len(x))\n",
    "# df_2_concat_ND['no_of_digits'].value_counts()\n",
    "\n",
    "# df_2_concat_ND = df_2_concat_ND.sort_values('Sales', ascending= False)\n",
    "# top_25=df_2_concat_ND.iloc[:25,]\n",
    "# top_25['Category'].value_counts()\n",
    "\n",
    "# test = df_2_concat_ND[(df_2_concat_ND['Profit'] > 0)]\n",
    "# test = test.sort_values(by='Sales')\n",
    "# test.groupby(by=['Category','Sub-Category']).Profit\n",
    "\n",
    "lowest_profit=df_2_concat_ND[df_2_concat_ND.Profit>0]\n",
    "lowest_profit=lowest_profit.loc[lowest_profit.Category=='Technology']\n",
    "lowest_profit['Profit_per_qty']=lowest_profit['Profit']/lowest_profit['Quantity']\n",
    "lowest_profit.sort_values(by='Profit_per_qty',ascending=True)\n",
    "df_2_concat_ND.plot.hist()"
   ]
  },
  {
   "cell_type": "code",
   "execution_count": null,
   "id": "c1552c6f",
   "metadata": {},
   "outputs": [],
   "source": []
  }
 ],
 "metadata": {
  "kernelspec": {
   "display_name": "Python 3 (ipykernel)",
   "language": "python",
   "name": "python3"
  },
  "language_info": {
   "codemirror_mode": {
    "name": "ipython",
    "version": 3
   },
   "file_extension": ".py",
   "mimetype": "text/x-python",
   "name": "python",
   "nbconvert_exporter": "python",
   "pygments_lexer": "ipython3",
   "version": "3.9.12"
  }
 },
 "nbformat": 4,
 "nbformat_minor": 5
}
